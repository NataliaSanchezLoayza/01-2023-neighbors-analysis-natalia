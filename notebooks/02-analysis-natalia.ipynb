{
 "cells": [
  {
   "cell_type": "markdown",
   "id": "71692a69",
   "metadata": {},
   "source": [
    "### Analysis of Neighbors posts\n",
    "\n",
    "This noteboook creates the following analyses:\n",
    "- TK\n",
    "- TK\n",
    "- TK\n"
   ]
  },
  {
   "cell_type": "code",
   "execution_count": null,
   "id": "726a3da9",
   "metadata": {},
   "outputs": [],
   "source": []
  }
 ],
 "metadata": {
  "kernelspec": {
   "display_name": "Python 3 (ipykernel)",
   "language": "python",
   "name": "python3"
  },
  "language_info": {
   "codemirror_mode": {
    "name": "ipython",
    "version": 3
   },
   "file_extension": ".py",
   "mimetype": "text/x-python",
   "name": "python",
   "nbconvert_exporter": "python",
   "pygments_lexer": "ipython3",
   "version": "3.9.10"
  }
 },
 "nbformat": 4,
 "nbformat_minor": 5
}
